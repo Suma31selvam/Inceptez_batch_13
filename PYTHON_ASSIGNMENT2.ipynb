{
 "cells": [
  {
   "cell_type": "markdown",
   "metadata": {},
   "source": [
    "# 1. Write a Python program to find those numbers which are divisible by 7 and multiple of 5, between 1500 and 2700 (both included)."
   ]
  },
  {
   "cell_type": "code",
   "execution_count": 1,
   "metadata": {},
   "outputs": [
    {
     "name": "stdout",
     "output_type": "stream",
     "text": [
      "[1505, 1540, 1575, 1610, 1645, 1680, 1715, 1750, 1785, 1820, 1855, 1890, 1925, 1960, 1995, 2030, 2065, 2100, 2135, 2170, 2205, 2240, 2275, 2310, 2345, 2380, 2415, 2450, 2485, 2520, 2555, 2590, 2625, 2660, 2695]\n"
     ]
    }
   ],
   "source": [
    "lst=[]\n",
    "for i in range(1500,2700):\n",
    "    if(i%7==0):\n",
    "        if(i%5==0):\n",
    "            lst.append(i)\n",
    "print(lst)\n",
    "            "
   ]
  },
  {
   "cell_type": "markdown",
   "metadata": {},
   "source": [
    "#  2. Write a Python program to construct the following pattern, using a nested for loop."
   ]
  },
  {
   "cell_type": "code",
   "execution_count": 2,
   "metadata": {},
   "outputs": [
    {
     "name": "stdout",
     "output_type": "stream",
     "text": [
      "*\n",
      "**\n",
      "***\n",
      "****\n",
      "*****\n",
      "****\n",
      "***\n",
      "**\n",
      "*\n",
      "\n"
     ]
    }
   ],
   "source": [
    "for i in range(0,5):\n",
    "    for j in range(0,i+1):\n",
    "        print(\"*\",end=\"\")\n",
    "    print()\n",
    "for k in range(5,0,-1):\n",
    "    for l in range(k-1,0,-1):\n",
    "        print(\"*\",end=\"\")\n",
    "    print()"
   ]
  },
  {
   "cell_type": "markdown",
   "metadata": {},
   "source": [
    "# 3. Write a Python program to count the number of even and odd numbers from a series of numbers"
   ]
  },
  {
   "cell_type": "code",
   "execution_count": 3,
   "metadata": {},
   "outputs": [
    {
     "name": "stdout",
     "output_type": "stream",
     "text": [
      "Number of even numbers: 4\n",
      "Number of odd numbers: 5\n"
     ]
    }
   ],
   "source": [
    "num=[100,111,132,133,144,145,146,177,189]\n",
    "even_num=0\n",
    "odd_num=0\n",
    "for i in num:\n",
    "    if i%2==0:\n",
    "        even_num+=1\n",
    "    else:\n",
    "        odd_num+=1\n",
    "print(\"Number of even numbers:\",even_num)\n",
    "print(\"Number of odd numbers:\",odd_num)"
   ]
  },
  {
   "cell_type": "markdown",
   "metadata": {},
   "source": [
    "# 4. Write a Python program to find numbers between 100 and 400 (both included) where each digit of a number is an even number. The numbers obtained should be printed in a comma-separated sequence."
   ]
  },
  {
   "cell_type": "code",
   "execution_count": 4,
   "metadata": {},
   "outputs": [
    {
     "name": "stdout",
     "output_type": "stream",
     "text": [
      "200,202,204,206,208,220,222,224,226,228,240,242,244,246,248,260,262,264,266,268,280,282,284,286,288,400\n"
     ]
    }
   ],
   "source": [
    "lst=[]\n",
    "for i in range(100,401):\n",
    "    s=str(i)\n",
    "    if int(s[0])%2==0 and int(s[1])%2==0 and int(s[2])%2==0:\n",
    "        lst.append(s)\n",
    "print(\",\".join(lst))\n"
   ]
  },
  {
   "cell_type": "markdown",
   "metadata": {},
   "source": [
    "# # 5. Write a Python program to calculate a dog's age in dog's years. Go to the editor\n",
    "\n",
    "Note: For the first two years, a dog year is equal to 10.5 human years. After that, each dog year equals 4 human years."
   ]
  },
  {
   "cell_type": "code",
   "execution_count": 5,
   "metadata": {},
   "outputs": [
    {
     "name": "stdout",
     "output_type": "stream",
     "text": [
      "Input a dog's age in human years:20\n",
      "Your dog's age in dog's year: 93.0\n"
     ]
    }
   ],
   "source": [
    "dog_age=int(input(\"Input a dog's age in human years:\"))\n",
    "human_age=0\n",
    "for age in  range(1,dog_age):\n",
    "    if age<3:\n",
    "        human_age+=10.5\n",
    "for age in range(3,dog_age+1):\n",
    "        human_age+=4\n",
    "print(\"Your dog's age in dog's year:\",human_age)\n"
   ]
  },
  {
   "cell_type": "markdown",
   "metadata": {},
   "source": [
    "# 6. Write a Python function to find the Max of three numbers"
   ]
  },
  {
   "cell_type": "code",
   "execution_count": 6,
   "metadata": {},
   "outputs": [
    {
     "name": "stdout",
     "output_type": "stream",
     "text": [
      "Enter first number:3\n",
      "Enter second number:6\n",
      "Enter third number:-5\n",
      "The three numbers are: 3 6 -5\n",
      "6\n"
     ]
    }
   ],
   "source": [
    "first_num=int(input(\"Enter first number:\"))\n",
    "second_num=int(input(\"Enter second number:\"))\n",
    "third_num=int(input(\"Enter third number:\"))\n",
    "print(\"The three numbers are:\",first_num,second_num,third_num)\n",
    "print(max(first_num,second_num,third_num))"
   ]
  },
  {
   "cell_type": "markdown",
   "metadata": {},
   "source": [
    "# 7. Write a Python function that takes a number as a parameter and check the number is prime or not."
   ]
  },
  {
   "cell_type": "code",
   "execution_count": 7,
   "metadata": {},
   "outputs": [
    {
     "name": "stdout",
     "output_type": "stream",
     "text": [
      "The number is:9\n",
      "false\n"
     ]
    }
   ],
   "source": [
    "num=int(input(\"The number is:\"))\n",
    "if num>1:\n",
    "    for i in range(2,num//2):\n",
    "        if(num%i)==0:\n",
    "            print(\"false\")\n",
    "            break\n",
    "    else:\n",
    "        print(\"true\")\n",
    "else:\n",
    "    print(\"false\")"
   ]
  },
  {
   "cell_type": "markdown",
   "metadata": {},
   "source": [
    "# 8. Write a Python function that accepts a string and calculate the number of upper case letters and lower case letters. Go to the editor\n"
   ]
  },
  {
   "cell_type": "code",
   "execution_count": 8,
   "metadata": {},
   "outputs": [
    {
     "name": "stdout",
     "output_type": "stream",
     "text": [
      "Original string is:Inceptz is One of The BeSt Places TO LEarn DataSciEnce\n",
      "No of upper case character: 13\n",
      "No of lower case character: 32\n"
     ]
    }
   ],
   "source": [
    "str_func=str(input(\"Original string is:\"))\n",
    "upper_count=0\n",
    "lower_count=0\n",
    "for i in str_func:\n",
    "    if i.isupper():\n",
    "        upper_count+=1\n",
    "    elif i.islower():\n",
    "        lower_count+=1\n",
    "print(\"No of upper case character:\",upper_count)\n",
    "print(\"No of lower case character:\",lower_count)"
   ]
  },
  {
   "cell_type": "markdown",
   "metadata": {},
   "source": [
    "# 9. Write a Python program to reverse a string."
   ]
  },
  {
   "cell_type": "code",
   "execution_count": 13,
   "metadata": {},
   "outputs": [
    {
     "name": "stdout",
     "output_type": "stream",
     "text": [
      "The original string is:1234abcd\n",
      "Reversed string is: dcba4321\n"
     ]
    }
   ],
   "source": [
    "txt=input(\"The original string is:\")\n",
    "print(\"Reversed string is:\",txt[::-1])\n",
    "\n"
   ]
  },
  {
   "cell_type": "markdown",
   "metadata": {},
   "source": [
    "# 10. Write a Python program to find the greatest common divisor (gcd) of two integers"
   ]
  },
  {
   "cell_type": "code",
   "execution_count": 16,
   "metadata": {},
   "outputs": [
    {
     "name": "stdout",
     "output_type": "stream",
     "text": [
      "Enter number1:12\n",
      "Enter number2:14\n",
      "The two numbers are: 12 14\n",
      "The GCD of the numbers are: 2\n"
     ]
    }
   ],
   "source": [
    "num1 = int(input(\"Enter number1:\"))\n",
    "num2 = int(input(\"Enter number2:\"))\n",
    "maximum = max(num1,num2)\n",
    "print(\"The two numbers are:\",num1,num2)\n",
    "i=1\n",
    "gcd=1\n",
    "while i <=maximum:\n",
    "    if ((num1%i == 0) and (num2%i == 0)):\n",
    "        gcd = i\n",
    "    i=i+1\n",
    "    \n",
    "print(\"The GCD of the numbers are:\",gcd)"
   ]
  },
  {
   "cell_type": "code",
   "execution_count": null,
   "metadata": {},
   "outputs": [],
   "source": []
  }
 ],
 "metadata": {
  "kernelspec": {
   "display_name": "Python 3",
   "language": "python",
   "name": "python3"
  },
  "language_info": {
   "codemirror_mode": {
    "name": "ipython",
    "version": 3
   },
   "file_extension": ".py",
   "mimetype": "text/x-python",
   "name": "python",
   "nbconvert_exporter": "python",
   "pygments_lexer": "ipython3",
   "version": "3.7.6"
  }
 },
 "nbformat": 4,
 "nbformat_minor": 4
}
