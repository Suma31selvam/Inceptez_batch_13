{
 "cells": [
  {
   "cell_type": "code",
   "execution_count": null,
   "metadata": {},
   "outputs": [],
   "source": [
    "##QUESTION_1##\n",
    "##Given an input list removes the element at index 4 and add it to the 2nd position and also, at the end of the list\n",
    "##given list [34, 54, 67, 89, 11, 43, 94]"
   ]
  },
  {
   "cell_type": "code",
   "execution_count": 1,
   "metadata": {},
   "outputs": [
    {
     "name": "stdout",
     "output_type": "stream",
     "text": [
      "original list: [34, 54, 67, 89, 11, 43, 94]\n",
      "list after removing element from index4: [34, 54, 67, 89, 43, 94]\n",
      "list after adding element at index2: [34, 54, 11, 67, 89, 43, 94]\n",
      "list after adding element at last: [34, 54, 11, 67, 89, 43, 94, 11]\n"
     ]
    }
   ],
   "source": [
    "given_list=[34, 54, 67, 89, 11, 43, 94]\n",
    "print(\"original list:\",given_list)\n",
    "element4=given_list[4]\n",
    "given_list.remove(element4)\n",
    "print(\"list after removing element from index4:\",given_list)\n",
    "given_list.insert(2,11)\n",
    "print(\"list after adding element at index2:\",given_list)\n",
    "given_list.append(11)\n",
    "print(\"list after adding element at last:\",given_list)\n",
    "\n",
    "\n",
    "\n",
    "\n"
   ]
  },
  {
   "cell_type": "code",
   "execution_count": 14,
   "metadata": {},
   "outputs": [
    {
     "name": "stdout",
     "output_type": "stream",
     "text": [
      "First list= [2, 3, 4, 5, 6, 7, 8]\n",
      "Secont list= [4, 9, 16, 25, 36, 49, 64]\n",
      "[64, 2, 3, 4, 5, 6, 7, 8, 9, 36, 16, 49, 25]\n"
     ]
    }
   ],
   "source": [
    "##QUESTION_2\n",
    "##Given a two list of equal size create a list of unique elements from both the lists into a seperate list\n",
    "\n",
    "list1=[2, 3, 4, 5, 6, 7, 8]\n",
    "print(\"First list=\",list1)\n",
    "list2=[4, 9, 16, 25, 36, 49, 64]\n",
    "print(\"Secont list=\",list2)\n",
    "list_set=list1+list2\n",
    "list3=list(set(list_set))\n",
    "print(list3)\n",
    "\n",
    "\n",
    "\n",
    "\n"
   ]
  },
  {
   "cell_type": "code",
   "execution_count": 16,
   "metadata": {},
   "outputs": [
    {
     "name": "stdout",
     "output_type": "stream",
     "text": [
      "original list: [87, 52, 44, 53, 54, 87, 52, 53]\n",
      "Unique list: [44, 52, 53, 54, 87]\n",
      "Tuple: (44, 52, 53, 54, 87)\n",
      "Minimum number is: 44\n",
      "Maximum number is: 87\n"
     ]
    }
   ],
   "source": [
    "##QUESTION_3\n",
    "##Remove duplicate from a list and create a tuple and find the minimum and maximum number (Hint: Try Functions Min() and Max() )\n",
    "\n",
    "givenlist=[87, 52, 44, 53, 54, 87, 52, 53]\n",
    "print(\"original list:\",givenlist)\n",
    "uniquelist=list(set(givenlist))\n",
    "print(\"Unique list:\",uniquelist)\n",
    "tuplelist=tuple(set(givenlist))\n",
    "print(\"Tuple:\",tuplelist)\n",
    "minimum=min(list(set(givenlist)))\n",
    "print(\"Minimum number is:\",minimum)\n",
    "maximum=max(list(set(givenlist)))\n",
    "print(\"Maximum number is:\",maximum)\n",
    "\n",
    "\n",
    "\n"
   ]
  },
  {
   "cell_type": "code",
   "execution_count": 4,
   "metadata": {},
   "outputs": [
    {
     "name": "stdout",
     "output_type": "stream",
     "text": [
      "The sample string: Welcome to Python\n",
      "Printing each words separately: W e l c o m e   t o   P y t h o n\n",
      "The length of the string is: 17\n"
     ]
    }
   ],
   "source": [
    "##QUESTION_4\n",
    "##Display the each word in the string Count the number of words in a string and display it (Including the white spaces)\n",
    "\n",
    "\n",
    "givenstr=\"Welcome to Python\"\n",
    "print(\"The sample string:\",givenstr)\n",
    "print(\"Printing each words separately:\",*givenstr)\n",
    "strlength=len(givenstr)\n",
    "print(\"The length of the string is:\",strlength)\n",
    "\n",
    "\n",
    "\n",
    "\n",
    "\n"
   ]
  },
  {
   "cell_type": "code",
   "execution_count": 21,
   "metadata": {},
   "outputs": [
    {
     "name": "stdout",
     "output_type": "stream",
     "text": [
      "The dictionary is: {'physics': 80, 'math': 90, 'chemistry': 86}\n",
      "The key element accessed by index: physics\n"
     ]
    }
   ],
   "source": [
    "##QUESTION_5\n",
    "##Write a Python program to access dictionary keys element by index. i.e. Use indexing methods to print the first key\n",
    "\n",
    "given_dict={'physics': 80, 'math': 90, 'chemistry': 86}\n",
    "print(\"The dictionary is:\",given_dict)\n",
    "keylist=list(given_dict.keys())\n",
    "print(\"The key element accessed by index:\",keylist[0])\n",
    "\n",
    "\n",
    "\n",
    "\n",
    "\n",
    "\n"
   ]
  },
  {
   "cell_type": "code",
   "execution_count": null,
   "metadata": {},
   "outputs": [],
   "source": []
  }
 ],
 "metadata": {
  "kernelspec": {
   "display_name": "Python 3",
   "language": "python",
   "name": "python3"
  },
  "language_info": {
   "codemirror_mode": {
    "name": "ipython",
    "version": 3
   },
   "file_extension": ".py",
   "mimetype": "text/x-python",
   "name": "python",
   "nbconvert_exporter": "python",
   "pygments_lexer": "ipython3",
   "version": "3.7.6"
  }
 },
 "nbformat": 4,
 "nbformat_minor": 4
}
